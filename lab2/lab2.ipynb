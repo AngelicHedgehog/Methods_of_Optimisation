{
 "cells": [
  {
   "cell_type": "code",
   "execution_count": 1,
   "metadata": {},
   "outputs": [
    {
     "data": {
      "text/plain": [
       "derivativeAtPoint (generic function with 1 method)"
      ]
     },
     "execution_count": 1,
     "metadata": {},
     "output_type": "execute_result"
    }
   ],
   "source": [
    "function derivativeAtPoint(f, x)\n",
    "    delta = 1e-3\n",
    "    return (f(x + delta) - f(x)) / delta\n",
    "end"
   ]
  },
  {
   "cell_type": "code",
   "execution_count": 2,
   "metadata": {},
   "outputs": [
    {
     "data": {
      "text/plain": [
       "secondDerivativeAtPoint (generic function with 1 method)"
      ]
     },
     "execution_count": 2,
     "metadata": {},
     "output_type": "execute_result"
    }
   ],
   "source": [
    "function secondDerivativeAtPoint(f, x)\n",
    "    delta = 1e-3\n",
    "    return (derivativeAtPoint(f, x + delta) - derivativeAtPoint(f, x)) / delta\n",
    "end"
   ]
  },
  {
   "cell_type": "code",
   "execution_count": 3,
   "metadata": {},
   "outputs": [
    {
     "data": {
      "text/plain": [
       "checkUnimodal (generic function with 1 method)"
      ]
     },
     "execution_count": 3,
     "metadata": {},
     "output_type": "execute_result"
    }
   ],
   "source": [
    "function checkUnimodal(f, a, b, step, eps)\n",
    "    extremum = nothing\n",
    "\n",
    "    for x in a:step:b\n",
    "        if abs(derivativeAtPoint(f, x)) < eps\n",
    "            if !isnothing(extremum)\n",
    "                return nothing\n",
    "            end\n",
    "            extremum = x\n",
    "        end\n",
    "\n",
    "        if secondDerivativeAtPoint(f, x) <= 0\n",
    "            return nothing\n",
    "        end\n",
    "    end\n",
    "\n",
    "    return extremum\n",
    "end"
   ]
  },
  {
   "cell_type": "code",
   "execution_count": 4,
   "metadata": {},
   "outputs": [
    {
     "data": {
      "text/plain": [
       "findExtrBySegments (generic function with 1 method)"
      ]
     },
     "execution_count": 4,
     "metadata": {},
     "output_type": "execute_result"
    }
   ],
   "source": [
    "function findExtrBySegments(f, a, b, step, eps)\n",
    "    iters = 0\n",
    "\n",
    "    while abs(a - b) > eps\n",
    "        x1 = a + (b - a) / 3\n",
    "        x2 = a + (b - a) * 2 / 3\n",
    "\n",
    "        if f(x1) > f(x2)\n",
    "            a = x1\n",
    "        else\n",
    "            b = x2\n",
    "        end\n",
    "\n",
    "        iters += 1\n",
    "    end\n",
    "\n",
    "    return (a + b) / 2, iters\n",
    "end"
   ]
  },
  {
   "cell_type": "code",
   "execution_count": 5,
   "metadata": {},
   "outputs": [
    {
     "data": {
      "text/plain": [
       "findExtrByGoldRatio (generic function with 1 method)"
      ]
     },
     "execution_count": 5,
     "metadata": {},
     "output_type": "execute_result"
    }
   ],
   "source": [
    "function findExtrByGoldRatio(f, a, b, step, eps)\n",
    "    iters = 0\n",
    "\n",
    "    goldRatio = (5^.5 - 1) / 2\n",
    "    x1 = a + (1 - goldRatio) * (b - a)\n",
    "    x2 = a + goldRatio * (b - a)\n",
    "    x = (a + b) / 2\n",
    "\n",
    "    while abs(a - b) > eps\n",
    "        if f(x1) > f(x2)\n",
    "            x = x2\n",
    "            a = x1\n",
    "            x1 = x2\n",
    "            x2 = a + b - x2\n",
    "        else\n",
    "            x = x1\n",
    "            b = x2\n",
    "            x2 = x1\n",
    "            x1 = a + b - x1\n",
    "        end\n",
    "\n",
    "        iters += 1\n",
    "    end\n",
    "\n",
    "    return x, iters\n",
    "end"
   ]
  },
  {
   "cell_type": "code",
   "execution_count": 6,
   "metadata": {},
   "outputs": [
    {
     "data": {
      "text/plain": [
       "findExtrByFibbonachi (generic function with 1 method)"
      ]
     },
     "execution_count": 6,
     "metadata": {},
     "output_type": "execute_result"
    }
   ],
   "source": [
    "function findExtrByFibbonachi(f, a, b, step, eps)\n",
    "    iters = 0\n",
    "\n",
    "    fib1, fib2, fib3 = 0, 1, 1\n",
    "    for i in 1:16\n",
    "        fib1 = fib2\n",
    "        fib2 = fib3\n",
    "        fib3 = fib1 + fib2\n",
    "    end\n",
    "    x1 = a + (fib1 / fib3) * (b - a)\n",
    "    x2 = a + b - x1\n",
    "    x = (a + b) / 2\n",
    "\n",
    "    while abs(a - b) > eps\n",
    "        if f(x1) > f(x2)\n",
    "            x = x2\n",
    "            a = x1\n",
    "            x1 = x2\n",
    "            x2 = a + b - x2\n",
    "        else\n",
    "            x = x1\n",
    "            b = x2\n",
    "            x2 = x1\n",
    "            x1 = a + b - x1\n",
    "        end\n",
    "\n",
    "        iters += 1\n",
    "    end\n",
    "\n",
    "    return x, iters\n",
    "end"
   ]
  },
  {
   "cell_type": "code",
   "execution_count": 7,
   "metadata": {},
   "outputs": [
    {
     "data": {
      "text/plain": [
       "#1 (generic function with 1 method)"
      ]
     },
     "execution_count": 7,
     "metadata": {},
     "output_type": "execute_result"
    }
   ],
   "source": [
    "f = x -> ((x - 9.876)^2 + 12.345)"
   ]
  },
  {
   "cell_type": "code",
   "execution_count": 8,
   "metadata": {},
   "outputs": [
    {
     "data": {
      "text/plain": [
       "9.876"
      ]
     },
     "execution_count": 8,
     "metadata": {},
     "output_type": "execute_result"
    }
   ],
   "source": [
    "checkUnimodal(f, -100, 100, 2e-3, 1e-3)"
   ]
  },
  {
   "cell_type": "code",
   "execution_count": 9,
   "metadata": {},
   "outputs": [
    {
     "name": "stdout",
     "output_type": "stream",
     "text": [
      "(9.876023150046766, 25)\n",
      "(9.875775199394639, 21)\n",
      "(9.87616099071189, 18)\n"
     ]
    }
   ],
   "source": [
    "println(findExtrBySegments(f, -10, 10, 2e-3, 1e-3))\n",
    "println(findExtrByGoldRatio(f, -10, 10, 2e-3, 1e-3))\n",
    "println(findExtrByFibbonachi(f, -10, 10, 2e-3, 1e-3))"
   ]
  }
 ],
 "metadata": {
  "kernelspec": {
   "display_name": "Julia 1.10.5",
   "language": "julia",
   "name": "julia-1.10"
  },
  "language_info": {
   "file_extension": ".jl",
   "mimetype": "application/julia",
   "name": "julia",
   "version": "1.10.5"
  }
 },
 "nbformat": 4,
 "nbformat_minor": 2
}
